{
  "nbformat": 4,
  "nbformat_minor": 0,
  "metadata": {
    "colab": {
      "name": "ThorlabsPurchase",
      "provenance": [],
      "collapsed_sections": [],
      "include_colab_link": true
    },
    "kernelspec": {
      "display_name": "Python 3",
      "name": "python3"
    }
  },
  "cells": [
    {
      "cell_type": "markdown",
      "metadata": {
        "id": "view-in-github",
        "colab_type": "text"
      },
      "source": [
        "<a href=\"https://colab.research.google.com/github/MilSur/ThorlabsPurchase/blob/main/ThorlabsPurchase.ipynb\" target=\"_parent\"><img src=\"https://colab.research.google.com/assets/colab-badge.svg\" alt=\"Open In Colab\"/></a>"
      ]
    },
    {
      "cell_type": "code",
      "metadata": {
        "id": "nFoqAsuQAz-W",
        "colab": {
          "base_uri": "https://localhost:8080/",
          "height": 680
        },
        "outputId": "377f4d45-9c9d-4e1b-9c7d-7f2ea45d7970"
      },
      "source": [
        "############################################################\n",
        "# PARAMETERS TO SET:\n",
        "# please fill desired output filename, VAT, EUR/CZK exchange rate\n",
        "# and most importantly product list with Thorlabs product name and quantity\n",
        "\n",
        "output_name = '2021_January_Milos'\n",
        "\n",
        "vat = 1.21\n",
        "eur = 26.2\n",
        "\n",
        "product_list = [\n",
        "    ['KB1P/M', 2],\n",
        "    ['RS3M', 2],\n",
        "    ['RSH4/M', 2],\n",
        "    ['PF175B', 2],\n",
        "    ['RS100P4/M', 2],\n",
        "    ['RS2P4M', 2],\n",
        "    ['RS1M', 2],\n",
        "    ['RS12P4/M', 2],\n",
        "    ['KB25/M', 2],\n",
        "    ['XRN25P/M', 2],\n",
        "    ['AE4M6M', 10],\n",
        "    ['BA1/M-P5', 3],\n",
        "    ['BA1S/M-P5', 3],\n",
        "    ['KB75/M', 4],\n",
        "    ['KBT75/M', 2],\n",
        "    ['LG11', 1],\n",
        "    ['PH50/M-P5', 1],\n",
        "    ['ST1XY-S/M', 1],\n",
        "    ['TPS4', 2],\n",
        "    ['TPSM1/M', 4],    \n",
        "]\n",
        "\n",
        "############################################################\n",
        "\n",
        "!pip install selenium\n",
        "!pip install bs4\n",
        "!pip install docx\n",
        "!pip install docxtpl\n",
        "!pip install price-parser\n",
        "!pip install wget\n",
        "!apt-get update\n",
        "!apt install chromium-chromedriver\n",
        "!cp /usr/lib/chromium-browser/chromedriver /usr/bin\n",
        "\n",
        "import sys\n",
        "sys.path.insert(0,'/usr/lib/chromium-browser/chromedriver')\n",
        "\n",
        "import wget\n",
        "import pandas as pd\n",
        "from selenium import webdriver\n",
        "from bs4 import BeautifulSoup\n",
        "from docxtpl import DocxTemplate\n",
        "from google.colab import files\n",
        "from price_parser import Price\n",
        "\n",
        "# Docs:\n",
        "wget.download('https://github.com/MilSur/ThorlabsPurchase/blob/main/thorlabs_temp.docx?raw=true')\n",
        "thorlabs_template = 'thorlabs_temp.docx'\n",
        "\n",
        "options = webdriver.ChromeOptions()\n",
        "options.add_argument('--headless')\n",
        "options.add_argument('--no-sandbox')\n",
        "options.add_argument('--disable-dev-shm-usage')\n",
        "browser = webdriver.Chrome('chromedriver', options=options)\n",
        "browser.implicitly_wait(5)\n",
        "\n",
        "products = []\n",
        "for product in product_list:\n",
        "    browser.get('https://www.thorlabs.com/thorproduct.cfm?partnumber='+str(product[0])+'&CurrencySelect=Euro')\n",
        "    price_code = browser.find_elements_by_xpath(\"//tr/td/b[contains(text(), 'Price')]/../following-sibling::td\")\n",
        "    #price = float(price_code[0].text[:-2].replace(',', '.'))\n",
        "    price = float(Price.fromstring(price_code[0].text).amount)\n",
        "    title_code = browser.find_elements_by_xpath(\"//td[@class='PartTitle']\")\n",
        "    title = title_code[0].text\n",
        "    title = title.replace(str(product[0])+' - ', '')\n",
        "    products.append([product[0], title, product[1], price, '{:,}'.format(int(round(price*vat*eur*product[1], -1))).replace(',', ' ')])\n",
        "browser.quit()\n",
        "#print('Data successfully scraped!')\n",
        "\n",
        "doc = DocxTemplate(thorlabs_template)\n",
        "\n",
        "context = {\n",
        "    'products': products,\n",
        "    'vat': vat,\n",
        "    'eur': eur,\n",
        "    'total': int(sum([product[3]*vat*eur*product[2] for product in products]))/1000\n",
        "}\n",
        "\n",
        "doc.render(context)\n",
        "doc.save(output_name+'.docx')\n",
        "files.download(output_name+'.docx')\n",
        "pd.DataFrame(product_list).to_csv(output_name+'_cart'+'.txt', sep ='\\t', header = False, index = False)\n",
        "files.download(output_name+'_cart'+'.txt')\n",
        "print('\\n\\nNow, please click the folder icon on the left-sidebar, right-click the file {} and select Download'.format(output_name+'.docx'))"
      ],
      "execution_count": 2,
      "outputs": [
        {
          "output_type": "stream",
          "text": [
            "Requirement already satisfied: selenium in /usr/local/lib/python3.6/dist-packages (3.141.0)\n",
            "Requirement already satisfied: urllib3 in /usr/local/lib/python3.6/dist-packages (from selenium) (1.24.3)\n",
            "Requirement already satisfied: bs4 in /usr/local/lib/python3.6/dist-packages (0.0.1)\n",
            "Requirement already satisfied: beautifulsoup4 in /usr/local/lib/python3.6/dist-packages (from bs4) (4.6.3)\n",
            "Requirement already satisfied: docx in /usr/local/lib/python3.6/dist-packages (0.2.4)\n",
            "Requirement already satisfied: lxml in /usr/local/lib/python3.6/dist-packages (from docx) (4.2.6)\n",
            "Requirement already satisfied: Pillow>=2.0 in /usr/local/lib/python3.6/dist-packages (from docx) (7.0.0)\n",
            "Requirement already satisfied: docxtpl in /usr/local/lib/python3.6/dist-packages (0.11.3)\n",
            "Requirement already satisfied: python-docx in /usr/local/lib/python3.6/dist-packages (from docxtpl) (0.8.10)\n",
            "Requirement already satisfied: six in /usr/local/lib/python3.6/dist-packages (from docxtpl) (1.15.0)\n",
            "Requirement already satisfied: lxml in /usr/local/lib/python3.6/dist-packages (from docxtpl) (4.2.6)\n",
            "Requirement already satisfied: jinja2 in /usr/local/lib/python3.6/dist-packages (from docxtpl) (2.11.2)\n",
            "Requirement already satisfied: MarkupSafe>=0.23 in /usr/local/lib/python3.6/dist-packages (from jinja2->docxtpl) (1.1.1)\n",
            "Requirement already satisfied: price-parser in /usr/local/lib/python3.6/dist-packages (0.3.4)\n",
            "Requirement already satisfied: attrs>=17.3.0 in /usr/local/lib/python3.6/dist-packages (from price-parser) (20.3.0)\n",
            "Requirement already satisfied: wget in /usr/local/lib/python3.6/dist-packages (3.2)\n",
            "Hit:1 https://cloud.r-project.org/bin/linux/ubuntu bionic-cran40/ InRelease\n",
            "Ign:2 https://developer.download.nvidia.com/compute/cuda/repos/ubuntu1804/x86_64  InRelease\n",
            "Ign:3 https://developer.download.nvidia.com/compute/machine-learning/repos/ubuntu1804/x86_64  InRelease\n",
            "Hit:4 https://developer.download.nvidia.com/compute/cuda/repos/ubuntu1804/x86_64  Release\n",
            "Hit:5 https://developer.download.nvidia.com/compute/machine-learning/repos/ubuntu1804/x86_64  Release\n",
            "Hit:6 http://security.ubuntu.com/ubuntu bionic-security InRelease\n",
            "Hit:7 http://ppa.launchpad.net/c2d4u.team/c2d4u4.0+/ubuntu bionic InRelease\n",
            "Hit:8 http://archive.ubuntu.com/ubuntu bionic InRelease\n",
            "Hit:9 http://archive.ubuntu.com/ubuntu bionic-updates InRelease\n",
            "Hit:11 http://ppa.launchpad.net/cran/libgit2/ubuntu bionic InRelease\n",
            "Hit:12 http://archive.ubuntu.com/ubuntu bionic-backports InRelease\n",
            "Hit:14 http://ppa.launchpad.net/graphics-drivers/ppa/ubuntu bionic InRelease\n",
            "Reading package lists... Done\n",
            "Reading package lists... Done\n",
            "Building dependency tree       \n",
            "Reading state information... Done\n",
            "chromium-chromedriver is already the newest version (87.0.4280.66-0ubuntu0.18.04.1).\n",
            "0 upgraded, 0 newly installed, 0 to remove and 61 not upgraded.\n",
            "cp: '/usr/lib/chromium-browser/chromedriver' and '/usr/bin/chromedriver' are the same file\n"
          ],
          "name": "stdout"
        },
        {
          "output_type": "display_data",
          "data": {
            "application/javascript": [
              "\n",
              "    async function download(id, filename, size) {\n",
              "      if (!google.colab.kernel.accessAllowed) {\n",
              "        return;\n",
              "      }\n",
              "      const div = document.createElement('div');\n",
              "      const label = document.createElement('label');\n",
              "      label.textContent = `Downloading \"${filename}\": `;\n",
              "      div.appendChild(label);\n",
              "      const progress = document.createElement('progress');\n",
              "      progress.max = size;\n",
              "      div.appendChild(progress);\n",
              "      document.body.appendChild(div);\n",
              "\n",
              "      const buffers = [];\n",
              "      let downloaded = 0;\n",
              "\n",
              "      const channel = await google.colab.kernel.comms.open(id);\n",
              "      // Send a message to notify the kernel that we're ready.\n",
              "      channel.send({})\n",
              "\n",
              "      for await (const message of channel.messages) {\n",
              "        // Send a message to notify the kernel that we're ready.\n",
              "        channel.send({})\n",
              "        if (message.buffers) {\n",
              "          for (const buffer of message.buffers) {\n",
              "            buffers.push(buffer);\n",
              "            downloaded += buffer.byteLength;\n",
              "            progress.value = downloaded;\n",
              "          }\n",
              "        }\n",
              "      }\n",
              "      const blob = new Blob(buffers, {type: 'application/binary'});\n",
              "      const a = document.createElement('a');\n",
              "      a.href = window.URL.createObjectURL(blob);\n",
              "      a.download = filename;\n",
              "      div.appendChild(a);\n",
              "      a.click();\n",
              "      div.remove();\n",
              "    }\n",
              "  "
            ],
            "text/plain": [
              "<IPython.core.display.Javascript object>"
            ]
          },
          "metadata": {
            "tags": []
          }
        },
        {
          "output_type": "display_data",
          "data": {
            "application/javascript": [
              "download(\"download_9fbf383e-7096-401a-a4c4-721619b64d86\", \"2021_January_Milos.docx\", 12124)"
            ],
            "text/plain": [
              "<IPython.core.display.Javascript object>"
            ]
          },
          "metadata": {
            "tags": []
          }
        },
        {
          "output_type": "stream",
          "text": [
            "\n",
            "\n",
            "Now, please click the folder icon on the left-sidebar, right-click the file 2021_January_Milos.docx and select Download\n"
          ],
          "name": "stdout"
        }
      ]
    },
    {
      "cell_type": "code",
      "metadata": {
        "id": "tKepSNr25Bye",
        "outputId": "baf6ac4d-b981-4f90-9d8d-cd76cf65feab",
        "colab": {
          "base_uri": "https://localhost:8080/",
          "height": 34
        }
      },
      "source": [
        "product_list = [\n",
        "    ['KB1P/M', 2],\n",
        "    ['RS3M', 2],\n",
        "    ['RSH4/M', 2],\n",
        "    ['PF175B', 2],\n",
        "    ['RS100P4/M', 2],\n",
        "    ['RS2P4M', 2],\n",
        "    ['RS1M', 2],\n",
        "    ['RS12P4/M', 2],\n",
        "    ['KB25/M', 2],\n",
        "    ['XRN25P/M', 2],\n",
        "    ['AE4M6M', 10],\n",
        "    ['BA1/M-P5', 3],\n",
        "    ['BA1S/M-P5', 3],\n",
        "    ['KB75/M', 4],\n",
        "    ['KBT75/M', 2],\n",
        "    ['LG11', 1],\n",
        "    ['PH50/M-P5', 1],\n",
        "    ['ST1XY-S/M', 1],\n",
        "    ['TPS4', 2],\n",
        "    ['TPSM1/M', 4],    \n",
        "]\n",
        "import pandas as pd\n",
        "\n",
        "pd.DataFrame(product_list).to_csv(output_name+'_cart'+'.txt', sep ='\\t', header = False, index = False)\n",
        "files.download(output_name+'_cart'+'.txt')\n"
      ],
      "execution_count": 7,
      "outputs": [
        {
          "output_type": "display_data",
          "data": {
            "application/javascript": [
              "\n",
              "    async function download(id, filename, size) {\n",
              "      if (!google.colab.kernel.accessAllowed) {\n",
              "        return;\n",
              "      }\n",
              "      const div = document.createElement('div');\n",
              "      const label = document.createElement('label');\n",
              "      label.textContent = `Downloading \"${filename}\": `;\n",
              "      div.appendChild(label);\n",
              "      const progress = document.createElement('progress');\n",
              "      progress.max = size;\n",
              "      div.appendChild(progress);\n",
              "      document.body.appendChild(div);\n",
              "\n",
              "      const buffers = [];\n",
              "      let downloaded = 0;\n",
              "\n",
              "      const channel = await google.colab.kernel.comms.open(id);\n",
              "      // Send a message to notify the kernel that we're ready.\n",
              "      channel.send({})\n",
              "\n",
              "      for await (const message of channel.messages) {\n",
              "        // Send a message to notify the kernel that we're ready.\n",
              "        channel.send({})\n",
              "        if (message.buffers) {\n",
              "          for (const buffer of message.buffers) {\n",
              "            buffers.push(buffer);\n",
              "            downloaded += buffer.byteLength;\n",
              "            progress.value = downloaded;\n",
              "          }\n",
              "        }\n",
              "      }\n",
              "      const blob = new Blob(buffers, {type: 'application/binary'});\n",
              "      const a = document.createElement('a');\n",
              "      a.href = window.URL.createObjectURL(blob);\n",
              "      a.download = filename;\n",
              "      div.appendChild(a);\n",
              "      a.click();\n",
              "      div.remove();\n",
              "    }\n",
              "  "
            ],
            "text/plain": [
              "<IPython.core.display.Javascript object>"
            ]
          },
          "metadata": {
            "tags": []
          }
        },
        {
          "output_type": "display_data",
          "data": {
            "application/javascript": [
              "download(\"download_5ecd0b41-0042-4b38-b3b0-cc130174a981\", \"2021_January_Milos_cart.txt\", 193)"
            ],
            "text/plain": [
              "<IPython.core.display.Javascript object>"
            ]
          },
          "metadata": {
            "tags": []
          }
        }
      ]
    },
    {
      "cell_type": "code",
      "metadata": {
        "id": "NqWPp9Mqk2eA"
      },
      "source": [
        ""
      ],
      "execution_count": null,
      "outputs": []
    }
  ]
}